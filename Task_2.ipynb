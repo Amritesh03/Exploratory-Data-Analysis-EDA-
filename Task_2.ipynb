{
 "cells": [
  {
   "cell_type": "markdown",
   "id": "0f1bf37d",
   "metadata": {},
   "source": [
    "#### Task 2: Exploratory Data Analysis (EDA)"
   ]
  },
  {
   "cell_type": "markdown",
   "id": "42f6b99e",
   "metadata": {},
   "source": [
    "1. Importing required libraries"
   ]
  },
  {
   "cell_type": "code",
   "execution_count": 1,
   "id": "9878d132",
   "metadata": {},
   "outputs": [],
   "source": [
    "import pandas as pd\n",
    "import numpy as np\n",
    "import matplotlib.pyplot as plt\n",
    "import seaborn as sns\n",
    "import plotly.express as px"
   ]
  },
  {
   "cell_type": "markdown",
   "id": "66ec30dd",
   "metadata": {},
   "source": [
    "2. Loading the dataset"
   ]
  },
  {
   "cell_type": "code",
   "execution_count": 2,
   "id": "8697ab36",
   "metadata": {},
   "outputs": [
    {
     "data": {
      "text/html": [
       "<div>\n",
       "<style scoped>\n",
       "    .dataframe tbody tr th:only-of-type {\n",
       "        vertical-align: middle;\n",
       "    }\n",
       "\n",
       "    .dataframe tbody tr th {\n",
       "        vertical-align: top;\n",
       "    }\n",
       "\n",
       "    .dataframe thead th {\n",
       "        text-align: right;\n",
       "    }\n",
       "</style>\n",
       "<table border=\"1\" class=\"dataframe\">\n",
       "  <thead>\n",
       "    <tr style=\"text-align: right;\">\n",
       "      <th></th>\n",
       "      <th>PassengerId</th>\n",
       "      <th>Survived</th>\n",
       "      <th>Pclass</th>\n",
       "      <th>Name</th>\n",
       "      <th>Sex</th>\n",
       "      <th>Age</th>\n",
       "      <th>SibSp</th>\n",
       "      <th>Parch</th>\n",
       "      <th>Ticket</th>\n",
       "      <th>Fare</th>\n",
       "      <th>Cabin</th>\n",
       "      <th>Embarked</th>\n",
       "    </tr>\n",
       "  </thead>\n",
       "  <tbody>\n",
       "    <tr>\n",
       "      <th>0</th>\n",
       "      <td>1</td>\n",
       "      <td>0</td>\n",
       "      <td>3</td>\n",
       "      <td>Braund, Mr. Owen Harris</td>\n",
       "      <td>male</td>\n",
       "      <td>22.0</td>\n",
       "      <td>1</td>\n",
       "      <td>0</td>\n",
       "      <td>A/5 21171</td>\n",
       "      <td>7.2500</td>\n",
       "      <td>NaN</td>\n",
       "      <td>S</td>\n",
       "    </tr>\n",
       "    <tr>\n",
       "      <th>1</th>\n",
       "      <td>2</td>\n",
       "      <td>1</td>\n",
       "      <td>1</td>\n",
       "      <td>Cumings, Mrs. John Bradley (Florence Briggs Th...</td>\n",
       "      <td>female</td>\n",
       "      <td>38.0</td>\n",
       "      <td>1</td>\n",
       "      <td>0</td>\n",
       "      <td>PC 17599</td>\n",
       "      <td>71.2833</td>\n",
       "      <td>C85</td>\n",
       "      <td>C</td>\n",
       "    </tr>\n",
       "    <tr>\n",
       "      <th>2</th>\n",
       "      <td>3</td>\n",
       "      <td>1</td>\n",
       "      <td>3</td>\n",
       "      <td>Heikkinen, Miss. Laina</td>\n",
       "      <td>female</td>\n",
       "      <td>26.0</td>\n",
       "      <td>0</td>\n",
       "      <td>0</td>\n",
       "      <td>STON/O2. 3101282</td>\n",
       "      <td>7.9250</td>\n",
       "      <td>NaN</td>\n",
       "      <td>S</td>\n",
       "    </tr>\n",
       "    <tr>\n",
       "      <th>3</th>\n",
       "      <td>4</td>\n",
       "      <td>1</td>\n",
       "      <td>1</td>\n",
       "      <td>Futrelle, Mrs. Jacques Heath (Lily May Peel)</td>\n",
       "      <td>female</td>\n",
       "      <td>35.0</td>\n",
       "      <td>1</td>\n",
       "      <td>0</td>\n",
       "      <td>113803</td>\n",
       "      <td>53.1000</td>\n",
       "      <td>C123</td>\n",
       "      <td>S</td>\n",
       "    </tr>\n",
       "    <tr>\n",
       "      <th>4</th>\n",
       "      <td>5</td>\n",
       "      <td>0</td>\n",
       "      <td>3</td>\n",
       "      <td>Allen, Mr. William Henry</td>\n",
       "      <td>male</td>\n",
       "      <td>35.0</td>\n",
       "      <td>0</td>\n",
       "      <td>0</td>\n",
       "      <td>373450</td>\n",
       "      <td>8.0500</td>\n",
       "      <td>NaN</td>\n",
       "      <td>S</td>\n",
       "    </tr>\n",
       "  </tbody>\n",
       "</table>\n",
       "</div>"
      ],
      "text/plain": [
       "   PassengerId  Survived  Pclass  \\\n",
       "0            1         0       3   \n",
       "1            2         1       1   \n",
       "2            3         1       3   \n",
       "3            4         1       1   \n",
       "4            5         0       3   \n",
       "\n",
       "                                                Name     Sex   Age  SibSp  \\\n",
       "0                            Braund, Mr. Owen Harris    male  22.0      1   \n",
       "1  Cumings, Mrs. John Bradley (Florence Briggs Th...  female  38.0      1   \n",
       "2                             Heikkinen, Miss. Laina  female  26.0      0   \n",
       "3       Futrelle, Mrs. Jacques Heath (Lily May Peel)  female  35.0      1   \n",
       "4                           Allen, Mr. William Henry    male  35.0      0   \n",
       "\n",
       "   Parch            Ticket     Fare Cabin Embarked  \n",
       "0      0         A/5 21171   7.2500   NaN        S  \n",
       "1      0          PC 17599  71.2833   C85        C  \n",
       "2      0  STON/O2. 3101282   7.9250   NaN        S  \n",
       "3      0            113803  53.1000  C123        S  \n",
       "4      0            373450   8.0500   NaN        S  "
      ]
     },
     "execution_count": 2,
     "metadata": {},
     "output_type": "execute_result"
    }
   ],
   "source": [
    "df = pd.read_csv(\"Titanic-Dataset.csv\")\n",
    "df.head()"
   ]
  },
  {
   "cell_type": "markdown",
   "id": "8fd78018",
   "metadata": {},
   "source": [
    "3. Basic dataset info"
   ]
  },
  {
   "cell_type": "code",
   "execution_count": 3,
   "id": "d5384d23",
   "metadata": {},
   "outputs": [
    {
     "name": "stdout",
     "output_type": "stream",
     "text": [
      "\n",
      "=== Dataset Info ===\n",
      "<class 'pandas.core.frame.DataFrame'>\n",
      "RangeIndex: 891 entries, 0 to 890\n",
      "Data columns (total 12 columns):\n",
      " #   Column       Non-Null Count  Dtype  \n",
      "---  ------       --------------  -----  \n",
      " 0   PassengerId  891 non-null    int64  \n",
      " 1   Survived     891 non-null    int64  \n",
      " 2   Pclass       891 non-null    int64  \n",
      " 3   Name         891 non-null    object \n",
      " 4   Sex          891 non-null    object \n",
      " 5   Age          714 non-null    float64\n",
      " 6   SibSp        891 non-null    int64  \n",
      " 7   Parch        891 non-null    int64  \n",
      " 8   Ticket       891 non-null    object \n",
      " 9   Fare         891 non-null    float64\n",
      " 10  Cabin        204 non-null    object \n",
      " 11  Embarked     889 non-null    object \n",
      "dtypes: float64(2), int64(5), object(5)\n",
      "memory usage: 83.7+ KB\n"
     ]
    }
   ],
   "source": [
    "print(\"\\n=== Dataset Info ===\")\n",
    "df.info()"
   ]
  },
  {
   "cell_type": "markdown",
   "id": "4361b6ca",
   "metadata": {},
   "source": [
    "4. Summary statistics"
   ]
  },
  {
   "cell_type": "code",
   "execution_count": 5,
   "id": "373a0d35",
   "metadata": {},
   "outputs": [
    {
     "name": "stdout",
     "output_type": "stream",
     "text": [
      "\n",
      "=== Summary Statistics ===\n"
     ]
    },
    {
     "data": {
      "text/html": [
       "<div>\n",
       "<style scoped>\n",
       "    .dataframe tbody tr th:only-of-type {\n",
       "        vertical-align: middle;\n",
       "    }\n",
       "\n",
       "    .dataframe tbody tr th {\n",
       "        vertical-align: top;\n",
       "    }\n",
       "\n",
       "    .dataframe thead th {\n",
       "        text-align: right;\n",
       "    }\n",
       "</style>\n",
       "<table border=\"1\" class=\"dataframe\">\n",
       "  <thead>\n",
       "    <tr style=\"text-align: right;\">\n",
       "      <th></th>\n",
       "      <th>PassengerId</th>\n",
       "      <th>Survived</th>\n",
       "      <th>Pclass</th>\n",
       "      <th>Age</th>\n",
       "      <th>SibSp</th>\n",
       "      <th>Parch</th>\n",
       "      <th>Fare</th>\n",
       "    </tr>\n",
       "  </thead>\n",
       "  <tbody>\n",
       "    <tr>\n",
       "      <th>count</th>\n",
       "      <td>891.000000</td>\n",
       "      <td>891.000000</td>\n",
       "      <td>891.000000</td>\n",
       "      <td>714.000000</td>\n",
       "      <td>891.000000</td>\n",
       "      <td>891.000000</td>\n",
       "      <td>891.000000</td>\n",
       "    </tr>\n",
       "    <tr>\n",
       "      <th>mean</th>\n",
       "      <td>446.000000</td>\n",
       "      <td>0.383838</td>\n",
       "      <td>2.308642</td>\n",
       "      <td>29.699118</td>\n",
       "      <td>0.523008</td>\n",
       "      <td>0.381594</td>\n",
       "      <td>32.204208</td>\n",
       "    </tr>\n",
       "    <tr>\n",
       "      <th>std</th>\n",
       "      <td>257.353842</td>\n",
       "      <td>0.486592</td>\n",
       "      <td>0.836071</td>\n",
       "      <td>14.526497</td>\n",
       "      <td>1.102743</td>\n",
       "      <td>0.806057</td>\n",
       "      <td>49.693429</td>\n",
       "    </tr>\n",
       "    <tr>\n",
       "      <th>min</th>\n",
       "      <td>1.000000</td>\n",
       "      <td>0.000000</td>\n",
       "      <td>1.000000</td>\n",
       "      <td>0.420000</td>\n",
       "      <td>0.000000</td>\n",
       "      <td>0.000000</td>\n",
       "      <td>0.000000</td>\n",
       "    </tr>\n",
       "    <tr>\n",
       "      <th>25%</th>\n",
       "      <td>223.500000</td>\n",
       "      <td>0.000000</td>\n",
       "      <td>2.000000</td>\n",
       "      <td>20.125000</td>\n",
       "      <td>0.000000</td>\n",
       "      <td>0.000000</td>\n",
       "      <td>7.910400</td>\n",
       "    </tr>\n",
       "    <tr>\n",
       "      <th>50%</th>\n",
       "      <td>446.000000</td>\n",
       "      <td>0.000000</td>\n",
       "      <td>3.000000</td>\n",
       "      <td>28.000000</td>\n",
       "      <td>0.000000</td>\n",
       "      <td>0.000000</td>\n",
       "      <td>14.454200</td>\n",
       "    </tr>\n",
       "    <tr>\n",
       "      <th>75%</th>\n",
       "      <td>668.500000</td>\n",
       "      <td>1.000000</td>\n",
       "      <td>3.000000</td>\n",
       "      <td>38.000000</td>\n",
       "      <td>1.000000</td>\n",
       "      <td>0.000000</td>\n",
       "      <td>31.000000</td>\n",
       "    </tr>\n",
       "    <tr>\n",
       "      <th>max</th>\n",
       "      <td>891.000000</td>\n",
       "      <td>1.000000</td>\n",
       "      <td>3.000000</td>\n",
       "      <td>80.000000</td>\n",
       "      <td>8.000000</td>\n",
       "      <td>6.000000</td>\n",
       "      <td>512.329200</td>\n",
       "    </tr>\n",
       "  </tbody>\n",
       "</table>\n",
       "</div>"
      ],
      "text/plain": [
       "       PassengerId    Survived      Pclass         Age       SibSp  \\\n",
       "count   891.000000  891.000000  891.000000  714.000000  891.000000   \n",
       "mean    446.000000    0.383838    2.308642   29.699118    0.523008   \n",
       "std     257.353842    0.486592    0.836071   14.526497    1.102743   \n",
       "min       1.000000    0.000000    1.000000    0.420000    0.000000   \n",
       "25%     223.500000    0.000000    2.000000   20.125000    0.000000   \n",
       "50%     446.000000    0.000000    3.000000   28.000000    0.000000   \n",
       "75%     668.500000    1.000000    3.000000   38.000000    1.000000   \n",
       "max     891.000000    1.000000    3.000000   80.000000    8.000000   \n",
       "\n",
       "            Parch        Fare  \n",
       "count  891.000000  891.000000  \n",
       "mean     0.381594   32.204208  \n",
       "std      0.806057   49.693429  \n",
       "min      0.000000    0.000000  \n",
       "25%      0.000000    7.910400  \n",
       "50%      0.000000   14.454200  \n",
       "75%      0.000000   31.000000  \n",
       "max      6.000000  512.329200  "
      ]
     },
     "execution_count": 5,
     "metadata": {},
     "output_type": "execute_result"
    }
   ],
   "source": [
    "print(\"\\n=== Summary Statistics ===\")\n",
    "df.describe()"
   ]
  },
  {
   "cell_type": "markdown",
   "id": "7aa3d26a",
   "metadata": {},
   "source": [
    "5. Missing values check"
   ]
  },
  {
   "cell_type": "code",
   "execution_count": 6,
   "id": "052195a3",
   "metadata": {},
   "outputs": [
    {
     "name": "stdout",
     "output_type": "stream",
     "text": [
      "\n",
      "=== Missing Values ===\n",
      "PassengerId      0\n",
      "Survived         0\n",
      "Pclass           0\n",
      "Name             0\n",
      "Sex              0\n",
      "Age            177\n",
      "SibSp            0\n",
      "Parch            0\n",
      "Ticket           0\n",
      "Fare             0\n",
      "Cabin          687\n",
      "Embarked         2\n",
      "dtype: int64\n"
     ]
    }
   ],
   "source": [
    "print(\"\\n=== Missing Values ===\")\n",
    "print(df.isnull().sum())"
   ]
  },
  {
   "cell_type": "markdown",
   "id": "f7c20917",
   "metadata": {},
   "source": [
    "6. Handle Missing value"
   ]
  },
  {
   "cell_type": "code",
   "execution_count": 7,
   "id": "f1f3c060",
   "metadata": {},
   "outputs": [],
   "source": [
    "import warnings\n",
    "warnings.filterwarnings(\"ignore\")\n",
    "# Example: Fill Age with median\n",
    "df['Age'].fillna(df['Age'].median(), inplace=True)\n",
    "\n",
    "# Fill Embarked with mode\n",
    "df['Embarked'].fillna(df['Embarked'].mode()[0], inplace=True)\n",
    "\n",
    "# Drop Cabin (many missing)\n",
    "df.drop(columns=['Cabin'], inplace=True)"
   ]
  },
  {
   "cell_type": "code",
   "execution_count": 8,
   "id": "ba46c33b",
   "metadata": {},
   "outputs": [
    {
     "data": {
      "text/plain": [
       "PassengerId    0\n",
       "Survived       0\n",
       "Pclass         0\n",
       "Name           0\n",
       "Sex            0\n",
       "Age            0\n",
       "SibSp          0\n",
       "Parch          0\n",
       "Ticket         0\n",
       "Fare           0\n",
       "Embarked       0\n",
       "dtype: int64"
      ]
     },
     "execution_count": 8,
     "metadata": {},
     "output_type": "execute_result"
    }
   ],
   "source": [
    "df.isna().sum()"
   ]
  },
  {
   "cell_type": "markdown",
   "id": "6d133bd7",
   "metadata": {},
   "source": [
    "7. Histograms for numerical features"
   ]
  },
  {
   "cell_type": "code",
   "execution_count": 9,
   "id": "380069df",
   "metadata": {},
   "outputs": [
    {
     "data": {
      "image/png": "[encoded data removed]",
      "text/plain": [
       "<Figure size 1200x800 with 9 Axes>"
      ]
     },
     "metadata": {},
     "output_type": "display_data"
    }
   ],
   "source": [
    "df.hist(bins=20, figsize=(12, 8), color='skyblue')\n",
    "plt.suptitle('Histograms of Numeric Features')\n",
    "plt.show()"
   ]
  },
  {
   "cell_type": "markdown",
   "id": "9a5566e5",
   "metadata": {},
   "source": [
    "8. Boxplots for numerical features"
   ]
  },
  {
   "cell_type": "code",
   "execution_count": 10,
   "id": "6a982d2e",
   "metadata": {},
   "outputs": [
    {
     "data": {
      "image/png": "[encoded data removed]",
      "text/plain": [
       "<Figure size 1200x800 with 7 Axes>"
      ]
     },
     "metadata": {},
     "output_type": "display_data"
    }
   ],
   "source": [
    "numeric_cols = df.select_dtypes(include=['int64', 'float64']).columns\n",
    "plt.figure(figsize=(12, 8))\n",
    "for i, col in enumerate(numeric_cols, 1):\n",
    "    plt.subplot(3, 3, i)\n",
    "    sns.boxplot(y=df[col], color='lightgreen')\n",
    "    plt.title(f'Boxplot of {col}')\n",
    "plt.tight_layout()\n",
    "plt.show()"
   ]
  },
  {
   "cell_type": "markdown",
   "id": "26498a78",
   "metadata": {},
   "source": [
    "9. Correlation matrix heatmap"
   ]
  },
  {
   "cell_type": "code",
   "execution_count": null,
   "id": "520502c3",
   "metadata": {},
   "outputs": [
    {
     "data": {
      "image/png": "[encoded data removed]",
      "text/plain": [
       "<Figure size 1000x600 with 2 Axes>"
      ]
     },
     "metadata": {},
     "output_type": "display_data"
    }
   ],
   "source": [
    "plt.figure(figsize=(10, 6))\n",
    "corr = df.corr(numeric_only=True)\n",
    "sns.heatmap(corr, annot=True, cmap='coolwarm', fmt=\".2f\")\n",
    "plt.title('Correlation Heatmap')\n",
    "plt.show()\n"
   ]
  },
  {
   "cell_type": "markdown",
   "id": "4e5d653e",
   "metadata": {},
   "source": [
    "10. Pairplot for numerical features"
   ]
  },
  {
   "cell_type": "code",
   "execution_count": null,
   "id": "8753bc53",
   "metadata": {},
   "outputs": [
    {
     "data": {
      "image/png": "[encoded data removed]",
      "text/plain": [
       "<Figure size 1750x1750 with 56 Axes>"
      ]
     },
     "metadata": {},
     "output_type": "display_data"
    }
   ],
   "source": [
    "sns.pairplot(df.select_dtypes(include=['int64', 'float64']))\n",
    "plt.show()"
   ]
  },
  {
   "cell_type": "markdown",
   "id": "cf8afd9c",
   "metadata": {},
   "source": [
    "11. Survival rate by gender"
   ]
  },
  {
   "cell_type": "code",
   "execution_count": 13,
   "id": "ca8beb4d",
   "metadata": {},
   "outputs": [
    {
     "data": {
      "image/png": "[encoded data removed]",
      "text/plain": [
       "<Figure size 640x480 with 1 Axes>"
      ]
     },
     "metadata": {},
     "output_type": "display_data"
    }
   ],
   "source": [
    "sns.barplot(x='Sex', y='Survived', data=df)\n",
    "plt.title('Survival Rate by Gender')\n",
    "plt.show()"
   ]
  },
  {
   "cell_type": "markdown",
   "id": "8662461e",
   "metadata": {},
   "source": [
    "12. Survival rate by Passenger Class"
   ]
  },
  {
   "cell_type": "code",
   "execution_count": 14,
   "id": "2fb7271c",
   "metadata": {},
   "outputs": [
    {
     "data": {
      "image/png": "[encoded data removed]",
      "text/plain": [
       "<Figure size 640x480 with 1 Axes>"
      ]
     },
     "metadata": {},
     "output_type": "display_data"
    }
   ],
   "source": [
    "sns.barplot(x='Pclass', y='Survived', data=df)\n",
    "plt.title('Survival Rate by Passenger Class')\n",
    "plt.show()"
   ]
  },
  {
   "cell_type": "markdown",
   "id": "746d1957",
   "metadata": {},
   "source": [
    "13. Interactive scatter plot (Age vs Fare)"
   ]
  },
  {
   "cell_type": "code",
   "execution_count": 15,
   "id": "b84fc297",
   "metadata": {},
   "outputs": [
    {
     "data": {
      "application/vnd.plotly.v1+json": {
       "config": {
        "plotlyServerURL": "https://plot.ly"
       },
       "data": [
        {
         "customdata": [
          [
           "male",
           3
          ],
          [
           "female",
           1
          ],
          [
           "female",
           3
          ],
          [
           "female",
           1
          ],
          [
           "male",
           3
          ],
          [
           "male",
           3
          ],
          [
           "male",
           1
          ],
          [
           "male",
           3
          ],
          [
           "female",
           3
          ],
          [
           "female",
           2
          ],
          [
           "female",
           3
          ],
          [
           "female",
           1
          ],
          [
           "male",
           3
          ],
          [
           "male",
           3
          ],
          [
           "female",
           3
          ],
          [
           "female",
           2
          ],
          [
           "male",
           3
          ],
          [
           "male",
           2
          ],
          [
           "female",
           3
          ],
          [
           "female",
           3
          ],
          [
           "male",
           2
          ],
          [
           "male",
           2
          ],
          [
           "female",
           3
          ],
          [
           "male",
           1
          ],
          [
           "female",
           3
          ],
          [
           "female",
           3
          ],
          [
           "male",
           3
          ],
          [
           "male",
           1
          ],
          [
           "female",
           3
          ],
          [
           "male",
           3
          ],
          [
           "male",
           1
          ],
          [
           "female",
           1
          ],
          [
           "female",
           3
          ],
          [
           "male",
           2
          ],
          [
           "male",
           1
          ],
          [
           "male",
           1
          ],
          [
           "male",
           3
          ],
          [
           "male",
           3
          ],
          [
           "female",
           3
          ],
          [
           "female",
           3
          ],
          [
           "female",
           3
          ],
          [
           "female",
           2
          ],
          [
           "male",
           3
          ],
          [
           "female",
           2
          ],
          [
           "female",
           3
          ],
          [
           "male",
           3
          ],
          [
           "male",
           3
          ],
          [
           "female",
           3
          ],
          [
           "male",
           3
          ],
          [
           "female",
           3
          ],
          [
           "male",
           3
          ],
          [
           "male",
           3
          ],
          [
           "female",
           1
          ],
          [
           "female",
           2
          ],
          [
           "male",
           1
          ],
          [
           "male",
           1
          ],
          [
           "female",
           2
          ],
          [
           "male",
           3
          ],
          [
           "female",
           2
          ],
          [
           "male",
           3
          ],
          [
           "male",
           3
          ],
          [
           "female",
           1
          ],
          [
           "male",
           1
          ],
          [
           "male",
           3
          ],
          [
           "male",
           1
          ],
          [
           "male",
           3
          ],
          [
           "female",
           2
          ],
          [
           "male",
           3
          ],
          [
           "female",
           3
          ],
          [
           "male",
           3
          ],
          [
           "male",
           2
          ],
          [
           "female",
           3
          ],
          [
           "male",
           2
          ],
          [
           "male",
           3
          ],
          [
           "male",
           3
          ],
          [
           "male",
           3
          ],
          [
           "male",
           3
          ],
          [
           "male",
           3
          ],
          [
           "male",
           2
          ],
          [
           "female",
           3
          ],
          [
           "male",
           3
          ],
          [
           "male",
           3
          ],
          [
           "female",
           3
          ],
          [
           "male",
           1
          ],
          [
           "female",
           2
          ],
          [
           "female",
           3
          ],
          [
           "male",
           3
          ],
          [
           "male",
           3
          ],
          [
           "female",
           1
          ],
          [
           "male",
           3
          ],
          [
           "male",
           3
          ],
          [
           "male",
           3
          ],
          [
           "male",
           1
          ],
          [
           "male",
           3
          ],
          [
           "male",
           3
          ],
          [
           "male",
           3
          ],
          [
           "male",
           1
          ],
          [
           "male",
           1
          ],
          [
           "female",
           2
          ],
          [
           "male",
           2
          ],
          [
           "female",
           3
          ],
          [
           "male",
           3
          ],
          [
           "male",
           1
          ],
          [
           "male",
           3
          ],
          [
           "male",
           3
          ],
          [
           "male",
           3
          ],
          [
           "female",
           3
          ],
          [
           "male",
           3
          ],
          [
           "male",
           3
          ],
          [
           "female",
           3
          ],
          [
           "male",
           1
          ],
          [
           "female",
           3
          ],
          [
           "male",
           3
          ],
          [
           "female",
           3
          ],
          [
           "female",
           3
          ],
          [
           "male",
           3
          ],
          [
           "male",
           3
          ],
          [
           "male",
           2
          ],
          [
           "male",
           1
          ],
          [
           "female",
           3
          ],
          [
           "male",
           2
          ],
          [
           "male",
           3
          ],
          [
           "male",
           2
          ],
          [
           "female",
           2
          ],
          [
           "male",
           1
          ],
          [
           "male",
           3
          ],
          [
           "male",
           3
          ],
          [
           "male",
           3
          ],
          [
           "female",
           3
          ],
          [
           "male",
           3
          ],
          [
           "male",
           3
          ],
          [
           "male",
           3
          ],
          [
           "female",
           3
          ],
          [
           "female",
           2
          ],
          [
           "male",
           2
          ],
          [
           "male",
           2
          ],
          [
           "female",
           1
          ],
          [
           "male",
           1
          ],
          [
           "male",
           3
          ],
          [
           "male",
           1
          ],
          [
           "female",
           3
          ],
          [
           "female",
           3
          ],
          [
           "female",
           3
          ],
          [
           "male",
           3
          ],
          [
           "male",
           2
          ],
          [
           "male",
           2
          ],
          [
           "male",
           3
          ],
          [
           "female",
           3
          ],
          [
           "male",
           2
          ],
          [
           "male",
           2
          ],
          [
           "male",
           2
          ],
          [
           "female",
           1
          ],
          [
           "male",
           3
          ],
          [
           "male",
           3
          ],
          [
           "male",
           3
          ],
          [
           "male",
           1
          ],
          [
           "female",
           3
          ],
          [
           "male",
           3
          ],
          [
           "male",
           3
          ],
          [
           "male",
           3
          ],
          [
           "male",
           3
          ],
          [
           "female",
           2
          ],
          [
           "male",
           3
          ],
          [
           "male",
           3
          ],
          [
           "male",
           3
          ],
          [
           "male",
           3
          ],
          [
           "female",
           1
          ],
          [
           "female",
           3
          ],
          [
           "male",
           1
          ],
          [
           "male",
           3
          ],
          [
           "male",
           1
          ],
          [
           "male",
           3
          ],
          [
           "female",
           3
          ],
          [
           "male",
           3
          ],
          [
           "male",
           1
          ],
          [
           "male",
           3
          ],
          [
           "male",
           3
          ],
          [
           "female",
           1
          ],
          [
           "male",
           2
          ],
          [
           "male",
           3
          ],
          [
           "female",
           3
          ],
          [
           "male",
           2
          ],
          [
           "male",
           3
          ],
          [
           "male",
           2
          ],
          [
           "female",
           3
          ],
          [
           "male",
           1
          ],
          [
           "female",
           3
          ],
          [
           "male",
           1
          ],
          [
           "male",
           3
          ],
          [
           "male",
           3
          ],
          [
           "female",
           2
          ],
          [
           "male",
           2
          ],
          [
           "female",
           3
          ],
          [
           "male",
           2
          ],
          [
           "female",
           1
          ],
          [
           "female",
           1
          ],
          [
           "male",
           3
          ],
          [
           "male",
           3
          ],
          [
           "female",
           3
          ],
          [
           "female",
           2
          ],
          [
           "male",
           3
          ],
          [
           "male",
           3
          ],
          [
           "male",
           3
          ],
          [
           "male",
           3
          ],
          [
           "male",
           3
          ],
          [
           "female",
           3
          ],
          [
           "male",
           3
          ],
          [
           "male",
           3
          ],
          [
           "female",
           3
          ],
          [
           "male",
           1
          ],
          [
           "male",
           3
          ],
          [
           "female",
           2
          ],
          [
           "male",
           3
          ],
          [
           "male",
           2
          ],
          [
           "male",
           3
          ],
          [
           "female",
           1
          ],
          [
           "female",
           3
          ],
          [
           "male",
           2
          ],
          [
           "female",
           1
          ],
          [
           "male",
           2
          ],
          [
           "male",
           3
          ],
          [
           "male",
           2
          ],
          [
           "male",
           3
          ],
          [
           "male",
           3
          ],
          [
           "male",
           1
          ],
          [
           "male",
           3
          ],
          [
           "male",
           2
          ],
          [
           "male",
           3
          ],
          [
           "male",
           2
          ],
          [
           "female",
           3
          ],
          [
           "female",
           1
          ],
          [
           "male",
           3
          ],
          [
           "male",
           2
          ],
          [
           "female",
           3
          ],
          [
           "male",
           2
          ],
          [
           "female",
           3
          ],
          [
           "male",
           2
          ],
          [
           "female",
           2
          ],
          [
           "male",
           2
          ],
          [
           "male",
           2
          ],
          [
           "female",
           3
          ],
          [
           "female",
           3
          ],
          [
           "male",
           2
          ],
          [
           "male",
           3
          ],
          [
           "male",
           3
          ],
          [
           "male",
           1
          ],
          [
           "female",
           3
          ],
          [
           "female",
           2
          ],
          [
           "male",
           1
          ],
          [
           "male",
           2
          ],
          [
           "male",
           3
          ],
          [
           "female",
           3
          ],
          [
           "male",
           1
          ],
          [
           "male",
           3
          ],
          [
           "female",
           3
          ],
          [
           "female",
           3
          ],
          [
           "female",
           1
          ],
          [
           "female",
           1
          ],
          [
           "female",
           1
          ],
          [
           "female",
           2
          ],
          [
           "male",
           3
          ],
          [
           "male",
           3
          ],
          [
           "male",
           1
          ],
          [
           "male",
           1
          ],
          [
           "female",
           3
          ],
          [
           "male",
           2
          ],
          [
           "male",
           3
          ],
          [
           "male",
           3
          ],
          [
           "female",
           1
          ],
          [
           "female",
           1
          ],
          [
           "male",
           1
          ],
          [
           "male",
           3
          ],
          [
           "female",
           2
          ],
          [
           "male",
           1
          ],
          [
           "female",
           3
          ],
          [
           "female",
           1
          ],
          [
           "female",
           3
          ],
          [
           "male",
           2
          ],
          [
           "male",
           3
          ],
          [
           "female",
           3
          ],
          [
           "male",
           3
          ],
          [
           "male",
           3
          ],
          [
           "male",
           3
          ],
          [
           "male",
           3
          ],
          [
           "male",
           1
          ],
          [
           "male",
           3
          ],
          [
           "male",
           3
          ],
          [
           "male",
           3
          ],
          [
           "male",
           2
          ],
          [
           "female",
           3
          ],
          [
           "female",
           1
          ],
          [
           "female",
           1
          ],
          [
           "male",
           2
          ],
          [
           "female",
           3
          ],
          [
           "male",
           3
          ],
          [
           "male",
           1
          ],
          [
           "male",
           3
          ],
          [
           "female",
           1
          ],
          [
           "male",
           1
          ],
          [
           "female",
           1
          ],
          [
           "female",
           3
          ],
          [
           "male",
           3
          ],
          [
           "male",
           3
          ],
          [
           "female",
           2
          ],
          [
           "male",
           3
          ],
          [
           "male",
           1
          ],
          [
           "female",
           1
          ],
          [
           "female",
           1
          ],
          [
           "male",
           2
          ],
          [
           "female",
           1
          ],
          [
           "female",
           1
          ],
          [
           "female",
           1
          ],
          [
           "female",
           2
          ],
          [
           "male",
           3
          ],
          [
           "male",
           2
          ],
          [
           "female",
           3
          ],
          [
           "female",
           2
          ],
          [
           "male",
           2
          ],
          [
           "female",
           1
          ],
          [
           "female",
           1
          ],
          [
           "male",
           3
          ],
          [
           "male",
           3
          ],
          [
           "female",
           2
          ],
          [
           "female",
           2
          ],
          [
           "male",
           3
          ],
          [
           "female",
           1
          ],
          [
           "male",
           3
          ],
          [
           "female",
           2
          ],
          [
           "female",
           3
          ],
          [
           "female",
           1
          ],
          [
           "female",
           3
          ],
          [
           "male",
           1
          ],
          [
           "male",
           1
          ],
          [
           "male",
           3
          ],
          [
           "female",
           1
          ],
          [
           "male",
           3
          ],
          [
           "male",
           1
          ],
          [
           "female",
           1
          ],
          [
           "male",
           3
          ],
          [
           "male",
           1
          ],
          [
           "male",
           2
          ],
          [
           "female",
           1
          ],
          [
           "male",
           2
          ],
          [
           "male",
           2
          ],
          [
           "male",
           2
          ],
          [
           "female",
           2
          ],
          [
           "female",
           2
          ],
          [
           "female",
           3
          ],
          [
           "male",
           3
          ],
          [
           "male",
           3
          ],
          [
           "male",
           3
          ],
          [
           "male",
           1
          ],
          [
           "male",
           3
          ],
          [
           "male",
           3
          ],
          [
           "male",
           3
          ],
          [
           "male",
           3
          ],
          [
           "female",
           1
          ],
          [
           "female",
           2
          ],
          [
           "female",
           3
          ],
          [
           "female",
           3
          ],
          [
           "male",
           3
          ],
          [
           "male",
           2
          ],
          [
           "female",
           3
          ],
          [
           "male",
           3
          ],
          [
           "male",
           3
          ],
          [
           "male",
           3
          ],
          [
           "female",
           1
          ],
          [
           "female",
           3
          ],
          [
           "female",
           3
          ],
          [
           "female",
           1
          ],
          [
           "male",
           1
          ],
          [
           "male",
           3
          ],
          [
           "male",
           3
          ],
          [
           "male",
           1
          ],
          [
           "female",
           3
          ],
          [
           "female",
           1
          ],
          [
           "female",
           3
          ],
          [
           "male",
           1
          ],
          [
           "male",
           3
          ],
          [
           "male",
           3
          ],
          [
           "female",
           1
          ],
          [
           "female",
           3
          ],
          [
           "male",
           3
          ],
          [
           "female",
           1
          ],
          [
           "male",
           3
          ],
          [
           "male",
           2
          ],
          [
           "male",
           3
          ],
          [
           "female",
           2
          ],
          [
           "male",
           3
          ],
          [
           "female",
           2
          ],
          [
           "male",
           1
          ],
          [
           "male",
           3
          ],
          [
           "male",
           3
          ],
          [
           "female",
           1
          ],
          [
           "female",
           3
          ],
          [
           "male",
           3
          ],
          [
           "female",
           3
          ],
          [
           "male",
           2
          ],
          [
           "male",
           2
          ],
          [
           "female",
           2
          ],
          [
           "male",
           3
          ],
          [
           "male",
           3
          ],
          [
           "female",
           3
          ],
          [
           "male",
           3
          ],
          [
           "female",
           3
          ],
          [
           "male",
           2
          ],
          [
           "male",
           3
          ],
          [
           "male",
           2
          ],
          [
           "male",
           3
          ],
          [
           "female",
           3
          ],
          [
           "male",
           3
          ],
          [
           "male",
           3
          ],
          [
           "female",
           1
          ],
          [
           "male",
           2
          ],
          [
           "male",
           3
          ],
          [
           "female",
           3
          ],
          [
           "female",
           2
          ],
          [
           "female",
           2
          ],
          [
           "male",
           2
          ],
          [
           "female",
           3
          ],
          [
           "male",
           3
          ],
          [
           "male",
           3
          ],
          [
           "male",
           3
          ],
          [
           "female",
           3
          ],
          [
           "male",
           3
          ],
          [
           "male",
           3
          ],
          [
           "female",
           2
          ],
          [
           "female",
           2
          ],
          [
           "male",
           3
          ],
          [
           "male",
           3
          ],
          [
           "male",
           1
          ],
          [
           "female",
           3
          ],
          [
           "female",
           2
          ],
          [
           "male",
           3
          ],
          [
           "male",
           1
          ],
          [
           "female",
           1
          ],
          [
           "female",
           3
          ],
          [
           "female",
           2
          ],
          [
           "male",
           1
          ],
          [
           "male",
           2
          ],
          [
           "female",
           2
          ],
          [
           "male",
           3
          ],
          [
           "male",
           3
          ],
          [
           "female",
           2
          ],
          [
           "male",
           3
          ],
          [
           "male",
           1
          ],
          [
           "female",
           2
          ],
          [
           "male",
           1
          ],
          [
           "female",
           3
          ],
          [
           "male",
           1
          ],
          [
           "male",
           2
          ],
          [
           "male",
           3
          ],
          [
           "male",
           1
          ],
          [
           "male",
           1
          ],
          [
           "male",
           3
          ],
          [
           "male",
           3
          ],
          [
           "male",
           1
          ],
          [
           "female",
           1
          ],
          [
           "female",
           2
          ],
          [
           "male",
           3
          ],
          [
           "male",
           1
          ],
          [
           "male",
           3
          ],
          [
           "male",
           1
          ],
          [
           "male",
           2
          ],
          [
           "male",
           3
          ],
          [
           "male",
           3
          ],
          [
           "male",
           2
          ],
          [
           "male",
           1
          ],
          [
           "male",
           3
          ],
          [
           "female",
           3
          ],
          [
           "male",
           3
          ],
          [
           "male",
           3
          ],
          [
           "female",
           2
          ],
          [
           "female",
           2
          ],
          [
           "female",
           3
          ],
          [
           "male",
           1
          ],
          [
           "male",
           2
          ],
          [
           "male",
           3
          ],
          [
           "male",
           3
          ],
          [
           "female",
           3
          ],
          [
           "male",
           3
          ],
          [
           "male",
           2
          ],
          [
           "male",
           3
          ],
          [
           "female",
           3
          ],
          [
           "male",
           1
          ],
          [
           "female",
           3
          ],
          [
           "female",
           1
          ],
          [
           "male",
           1
          ],
          [
           "male",
           3
          ],
          [
           "male",
           3
          ],
          [
           "male",
           3
          ],
          [
           "male",
           3
          ],
          [
           "male",
           1
          ],
          [
           "male",
           1
          ],
          [
           "male",
           3
          ],
          [
           "male",
           3
          ],
          [
           "female",
           1
          ],
          [
           "male",
           3
          ],
          [
           "female",
           1
          ],
          [
           "male",
           3
          ],
          [
           "male",
           3
          ],
          [
           "female",
           3
          ],
          [
           "female",
           3
          ],
          [
           "female",
           3
          ],
          [
           "female",
           1
          ],
          [
           "male",
           1
          ],
          [
           "female",
           2
          ],
          [
           "male",
           1
          ],
          [
           "male",
           3
          ],
          [
           "male",
           3
          ],
          [
           "male",
           3
          ],
          [
           "male",
           3
          ],
          [
           "male",
           1
          ],
          [
           "female",
           1
          ],
          [
           "male",
           3
          ],
          [
           "male",
           1
          ],
          [
           "female",
           2
          ],
          [
           "male",
           3
          ],
          [
           "female",
           2
          ],
          [
           "male",
           3
          ],
          [
           "female",
           1
          ],
          [
           "male",
           3
          ],
          [
           "male",
           3
          ],
          [
           "female",
           1
          ],
          [
           "male",
           3
          ],
          [
           "male",
           3
          ],
          [
           "female",
           2
          ],
          [
           "male",
           1
          ],
          [
           "male",
           3
          ],
          [
           "male",
           2
          ],
          [
           "female",
           2
          ],
          [
           "male",
           3
          ],
          [
           "male",
           3
          ],
          [
           "female",
           3
          ],
          [
           "female",
           3
          ],
          [
           "female",
           2
          ],
          [
           "male",
           1
          ],
          [
           "female",
           1
          ],
          [
           "male",
           3
          ],
          [
           "female",
           1
          ],
          [
           "female",
           1
          ],
          [
           "female",
           3
          ],
          [
           "female",
           3
          ],
          [
           "male",
           2
          ],
          [
           "male",
           1
          ],
          [
           "male",
           1
          ],
          [
           "female",
           2
          ],
          [
           "male",
           2
          ],
          [
           "male",
           3
          ],
          [
           "male",
           2
          ],
          [
           "male",
           1
          ],
          [
           "male",
           2
          ],
          [
           "male",
           3
          ],
          [
           "male",
           3
          ],
          [
           "female",
           3
          ],
          [
           "male",
           1
          ],
          [
           "female",
           1
          ],
          [
           "male",
           1
          ],
          [
           "female",
           1
          ],
          [
           "female",
           3
          ],
          [
           "male",
           3
          ],
          [
           "male",
           3
          ],
          [
           "male",
           2
          ],
          [
           "male",
           3
          ],
          [
           "female",
           3
          ],
          [
           "male",
           3
          ],
          [
           "male",
           3
          ],
          [
           "female",
           3
          ],
          [
           "male",
           3
          ],
          [
           "male",
           3
          ],
          [
           "male",
           2
          ],
          [
           "female",
           1
          ],
          [
           "male",
           1
          ],
          [
           "female",
           3
          ],
          [
           "male",
           3
          ],
          [
           "male",
           3
          ],
          [
           "female",
           2
          ],
          [
           "female",
           1
          ],
          [
           "female",
           3
          ],
          [
           "male",
           3
          ],
          [
           "female",
           2
          ],
          [
           "female",
           1
          ],
          [
           "male",
           2
          ],
          [
           "male",
           1
          ],
          [
           "male",
           3
          ],
          [
           "female",
           1
          ],
          [
           "male",
           2
          ],
          [
           "male",
           1
          ],
          [
           "male",
           3
          ],
          [
           "male",
           3
          ],
          [
           "male",
           3
          ],
          [
           "female",
           1
          ],
          [
           "male",
           3
          ],
          [
           "female",
           3
          ],
          [
           "male",
           2
          ],
          [
           "male",
           3
          ],
          [
           "female",
           2
          ],
          [
           "male",
           3
          ],
          [
           "male",
           3
          ],
          [
           "male",
           1
          ],
          [
           "female",
           2
          ],
          [
           "male",
           3
          ],
          [
           "male",
           1
          ],
          [
           "male",
           3
          ],
          [
           "male",
           1
          ],
          [
           "male",
           3
          ],
          [
           "male",
           3
          ],
          [
           "male",
           1
          ],
          [
           "female",
           2
          ],
          [
           "female",
           1
          ],
          [
           "female",
           3
          ],
          [
           "male",
           3
          ],
          [
           "female",
           3
          ],
          [
           "male",
           3
          ],
          [
           "male",
           3
          ],
          [
           "female",
           2
          ],
          [
           "male",
           3
          ],
          [
           "female",
           3
          ],
          [
           "female",
           2
          ],
          [
           "male",
           2
          ],
          [
           "male",
           3
          ],
          [
           "male",
           1
          ],
          [
           "male",
           3
          ],
          [
           "male",
           3
          ],
          [
           "male",
           3
          ],
          [
           "male",
           1
          ],
          [
           "male",
           2
          ],
          [
           "female",
           1
          ],
          [
           "male",
           3
          ],
          [
           "male",
           3
          ],
          [
           "male",
           1
          ],
          [
           "male",
           3
          ],
          [
           "male",
           1
          ],
          [
           "male",
           1
          ],
          [
           "female",
           3
          ],
          [
           "female",
           2
          ],
          [
           "male",
           3
          ],
          [
           "male",
           2
          ],
          [
           "female",
           3
          ],
          [
           "male",
           3
          ],
          [
           "male",
           3
          ],
          [
           "female",
           1
          ],
          [
           "female",
           3
          ],
          [
           "male",
           3
          ],
          [
           "female",
           3
          ],
          [
           "male",
           1
          ],
          [
           "male",
           3
          ],
          [
           "male",
           1
          ],
          [
           "male",
           3
          ],
          [
           "female",
           3
          ],
          [
           "male",
           3
          ],
          [
           "female",
           2
          ],
          [
           "male",
           3
          ],
          [
           "female",
           3
          ],
          [
           "female",
           3
          ],
          [
           "male",
           2
          ],
          [
           "male",
           3
          ],
          [
           "female",
           3
          ],
          [
           "male",
           2
          ],
          [
           "male",
           1
          ],
          [
           "male",
           1
          ],
          [
           "male",
           3
          ],
          [
           "male",
           1
          ],
          [
           "male",
           3
          ],
          [
           "male",
           3
          ],
          [
           "male",
           2
          ],
          [
           "male",
           2
          ],
          [
           "male",
           3
          ],
          [
           "male",
           3
          ],
          [
           "female",
           1
          ],
          [
           "female",
           2
          ],
          [
           "male",
           1
          ],
          [
           "male",
           2
          ],
          [
           "male",
           2
          ],
          [
           "male",
           2
          ],
          [
           "male",
           3
          ],
          [
           "male",
           3
          ],
          [
           "female",
           3
          ],
          [
           "female",
           3
          ],
          [
           "male",
           1
          ],
          [
           "female",
           3
          ],
          [
           "male",
           1
          ],
          [
           "male",
           3
          ],
          [
           "male",
           3
          ],
          [
           "male",
           2
          ],
          [
           "male",
           2
          ],
          [
           "male",
           3
          ],
          [
           "male",
           3
          ],
          [
           "male",
           3
          ],
          [
           "female",
           1
          ],
          [
           "male",
           1
          ],
          [
           "female",
           3
          ],
          [
           "male",
           3
          ],
          [
           "male",
           3
          ],
          [
           "male",
           1
          ],
          [
           "male",
           2
          ],
          [
           "male",
           3
          ],
          [
           "female",
           3
          ],
          [
           "male",
           1
          ],
          [
           "male",
           3
          ],
          [
           "female",
           1
          ],
          [
           "male",
           1
          ],
          [
           "female",
           3
          ],
          [
           "male",
           3
          ],
          [
           "male",
           3
          ],
          [
           "male",
           2
          ],
          [
           "female",
           2
          ],
          [
           "male",
           1
          ],
          [
           "female",
           1
          ],
          [
           "male",
           3
          ],
          [
           "female",
           1
          ],
          [
           "male",
           1
          ],
          [
           "male",
           1
          ],
          [
           "male",
           3
          ],
          [
           "male",
           2
          ],
          [
           "male",
           3
          ],
          [
           "female",
           1
          ],
          [
           "female",
           2
          ],
          [
           "male",
           3
          ],
          [
           "male",
           3
          ],
          [
           "female",
           2
          ],
          [
           "male",
           3
          ],
          [
           "male",
           2
          ],
          [
           "male",
           2
          ],
          [
           "male",
           1
          ],
          [
           "male",
           3
          ],
          [
           "female",
           2
          ],
          [
           "female",
           3
          ],
          [
           "male",
           2
          ],
          [
           "female",
           3
          ],
          [
           "female",
           1
          ],
          [
           "male",
           3
          ],
          [
           "male",
           2
          ],
          [
           "male",
           2
          ],
          [
           "male",
           2
          ],
          [
           "male",
           3
          ],
          [
           "female",
           3
          ],
          [
           "male",
           1
          ],
          [
           "male",
           3
          ],
          [
           "male",
           3
          ],
          [
           "male",
           1
          ],
          [
           "male",
           1
          ],
          [
           "female",
           1
          ],
          [
           "male",
           3
          ],
          [
           "male",
           3
          ],
          [
           "male",
           1
          ],
          [
           "male",
           3
          ],
          [
           "female",
           2
          ],
          [
           "male",
           1
          ],
          [
           "male",
           3
          ],
          [
           "female",
           2
          ],
          [
           "male",
           3
          ],
          [
           "male",
           3
          ],
          [
           "male",
           3
          ],
          [
           "female",
           2
          ],
          [
           "male",
           2
          ],
          [
           "male",
           3
          ],
          [
           "male",
           2
          ],
          [
           "male",
           3
          ],
          [
           "female",
           1
          ],
          [
           "male",
           3
          ],
          [
           "male",
           3
          ],
          [
           "male",
           3
          ],
          [
           "female",
           1
          ],
          [
           "male",
           3
          ],
          [
           "female",
           1
          ],
          [
           "male",
           1
          ],
          [
           "female",
           3
          ],
          [
           "male",
           3
          ],
          [
           "male",
           3
          ],
          [
           "male",
           3
          ],
          [
           "male",
           3
          ],
          [
           "female",
           2
          ],
          [
           "male",
           3
          ],
          [
           "female",
           2
          ],
          [
           "male",
           3
          ],
          [
           "male",
           3
          ],
          [
           "female",
           3
          ],
          [
           "male",
           3
          ],
          [
           "female",
           1
          ],
          [
           "female",
           3
          ],
          [
           "female",
           1
          ],
          [
           "male",
           1
          ],
          [
           "male",
           3
          ],
          [
           "male",
           3
          ],
          [
           "male",
           3
          ],
          [
           "female",
           3
          ],
          [
           "male",
           3
          ],
          [
           "male",
           3
          ],
          [
           "male",
           1
          ],
          [
           "male",
           3
          ],
          [
           "male",
           2
          ],
          [
           "female",
           3
          ],
          [
           "male",
           1
          ],
          [
           "male",
           3
          ],
          [
           "male",
           2
          ],
          [
           "female",
           1
          ],
          [
           "female",
           3
          ],
          [
           "male",
           3
          ],
          [
           "female",
           3
          ],
          [
           "male",
           2
          ],
          [
           "female",
           2
          ],
          [
           "male",
           1
          ],
          [
           "male",
           3
          ],
          [
           "male",
           3
          ],
          [
           "male",
           3
          ],
          [
           "male",
           1
          ],
          [
           "female",
           3
          ],
          [
           "male",
           2
          ],
          [
           "female",
           1
          ],
          [
           "male",
           3
          ],
          [
           "male",
           3
          ],
          [
           "male",
           2
          ],
          [
           "female",
           3
          ],
          [
           "male",
           3
          ],
          [
           "male",
           1
          ],
          [
           "female",
           3
          ],
          [
           "male",
           2
          ],
          [
           "male",
           3
          ],
          [
           "male",
           3
          ],
          [
           "female",
           1
          ],
          [
           "male",
           3
          ],
          [
           "male",
           1
          ],
          [
           "female",
           3
          ],
          [
           "male",
           3
          ],
          [
           "male",
           3
          ],
          [
           "male",
           3
          ],
          [
           "male",
           2
          ],
          [
           "male",
           3
          ],
          [
           "female",
           1
          ],
          [
           "female",
           3
          ],
          [
           "male",
           2
          ],
          [
           "male",
           3
          ],
          [
           "male",
           3
          ],
          [
           "male",
           3
          ],
          [
           "female",
           1
          ],
          [
           "male",
           3
          ],
          [
           "male",
           3
          ],
          [
           "male",
           3
          ],
          [
           "male",
           1
          ],
          [
           "male",
           3
          ],
          [
           "male",
           2
          ],
          [
           "female",
           1
          ],
          [
           "male",
           3
          ],
          [
           "male",
           3
          ],
          [
           "male",
           3
          ],
          [
           "male",
           3
          ],
          [
           "male",
           3
          ],
          [
           "male",
           2
          ],
          [
           "female",
           1
          ],
          [
           "male",
           3
          ],
          [
           "male",
           3
          ],
          [
           "female",
           3
          ],
          [
           "female",
           1
          ],
          [
           "female",
           2
          ],
          [
           "female",
           3
          ],
          [
           "female",
           1
          ],
          [
           "male",
           1
          ],
          [
           "female",
           3
          ],
          [
           "male",
           3
          ],
          [
           "male",
           3
          ],
          [
           "male",
           2
          ],
          [
           "female",
           1
          ],
          [
           "female",
           3
          ],
          [
           "male",
           2
          ],
          [
           "female",
           2
          ],
          [
           "female",
           2
          ],
          [
           "male",
           1
          ],
          [
           "male",
           3
          ],
          [
           "male",
           3
          ],
          [
           "male",
           3
          ],
          [
           "female",
           1
          ],
          [
           "male",
           1
          ],
          [
           "male",
           3
          ],
          [
           "female",
           2
          ],
          [
           "female",
           3
          ],
          [
           "male",
           3
          ],
          [
           "male",
           3
          ],
          [
           "male",
           3
          ],
          [
           "female",
           1
          ],
          [
           "female",
           2
          ],
          [
           "male",
           3
          ],
          [
           "female",
           3
          ],
          [
           "male",
           2
          ],
          [
           "male",
           3
          ],
          [
           "female",
           3
          ],
          [
           "male",
           2
          ],
          [
           "female",
           1
          ],
          [
           "female",
           3
          ],
          [
           "male",
           1
          ],
          [
           "male",
           3
          ]
         ],
         "hovertemplate": "Age=%{x}<br>Fare=%{y}<br>Sex=%{customdata[0]}<br>Pclass=%{customdata[1]}<br>Survived=%{marker.color}<extra></extra>",
         "legendgroup": "",
         "marker": {
          "color": {
           "bdata": "AAEBAQAAAAABAQEBAAAAAQABAAEAAQEBAAEAAAEAAAEBAAAAAQAAAQAAAAEBAAABAAAAAAEBAAEBAAEAAAEAAAABAQABAAAAAAABAAAAAQEAAQEAAQEAAAEAAAAAAAAAAAEBAAAAAAAAAAEBAAEAAAAAAAAAAAAAAAAAAQABAAEBAAAAAAEAAAEAAAAAAQEAAAABAAAAAAEAAAAAAQAAAAABAAAAAQEAAAAAAAEAAAAAAAAAAAAAAQEAAQEAAAEAAQEBAQAAAQAAAAAAAQAAAQEBAAEAAAABAQABAAEAAAABAAEAAAABAAABAAAAAQAAAAEAAAAAAAEBAAAAAAAAAQEBAQEAAQAAAAAAAQEBAAEBAAEBAAAAAQAAAAEAAAEAAQEBAQAAAAAAAAEBAQEAAQABAQEAAQEBAAAAAQEAAQEAAAEBAAEAAQEBAQAAAAEAAAEBAAEBAAAAAQEBAQAAAAAAAAABAAEBAAAAAAAAAQEBAQEAAAAAAQEAAAABAQABAAAAAQABAQEAAQEAAAAAAQEAAAAAAAABAAAAAAEAAQABAQAAAAAAAAAAAQEAAQEBAQAAAQABAAABAAABAQEBAQEBAAAAAQABAAEBAAEAAAAAAAAAAAEAAAEBAAAAAAABAAAAAQEAAQAAAQAAAAAAAAEAAAAAAAAAAQABAQABAQABAQAAAQABAAEAAAEAAAEAAAABAAABAAEAAQABAQAAAQAAAQEAAQEAAAEBAAEAAQEAAAAAAAAAAAABAQEBAQAAAQEAAQEBAAAAAQABAAAAAQAAAAABAAABAQAAAAEAAAEBAQAAAQAAAQAAAQAAAQEAAAAAAQAAAQABAAABAAAAAAABAAEBAQABAAEAAQABAAAAAAAAAQAAAAEAAAAAAQEAAAEAAAABAAEAAQAAAAAAAAABAQEBAAAAAAEAAAEBAAAAAAEBAQEBAAEAAAABAQAAAQAAAAEAAQEAAAEAAAAAAAABAAABAAEAAQAAAQAAAQEAAAEBAAAAAQAAAQEAAQAAAAAAAAAAAQAAAQABAQEAAAAAAQABAAAAAAAAAAEBAAAAAQEBAQAAAAABAAAAAAAAAAAAAAEBAAEAAAABAQEBAQAAAAEAAAEBAAABAAAAAAAAAQAAAAEAAQEBAQAAAAEAAAEBAAABAAEAAAEBAAAAAQEAAAAAAAABAAEA",
           "dtype": "i1"
          },
          "coloraxis": "coloraxis",
          "symbol": "circle"
         },
         "mode": "markers",
         "name": "",
         "orientation": "v",
         "showlegend": false,
         "type": "scatter",
         "x": {
          "bdata": "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",
          "dtype": "f8"
         },
         "xaxis": "x",
         "y": {
          "bdata": "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",
          "dtype": "f8"
         },
         "yaxis": "y"
        }
       ],
       "layout": {
        "coloraxis": {
         "colorbar": {
          "title": {
           "text": "Survived"
          }
         },
         "colorscale": [
          [
           0,
           "#0d0887"
          ],
          [
           0.1111111111111111,
           "#46039f"
          ],
          [
           0.2222222222222222,
           "#7201a8"
          ],
          [
           0.3333333333333333,
           "#9c179e"
          ],
          [
           0.4444444444444444,
           "#bd3786"
          ],
          [
           0.5555555555555556,
           "#d8576b"
          ],
          [
           0.6666666666666666,
           "#ed7953"
          ],
          [
           0.7777777777777778,
           "#fb9f3a"
          ],
          [
           0.8888888888888888,
           "#fdca26"
          ],
          [
           1,
           "#f0f921"
          ]
         ]
        },
        "legend": {
         "tracegroupgap": 0
        },
        "template": {
         "data": {
          "bar": [
           {
            "error_x": {
             "color": "#2a3f5f"
            },
            "error_y": {
             "color": "#2a3f5f"
            },
            "marker": {
             "line": {
              "color": "#E5ECF6",
              "width": 0.5
             },
             "pattern": {
              "fillmode": "overlay",
              "size": 10,
              "solidity": 0.2
             }
            },
            "type": "bar"
           }
          ],
          "barpolar": [
           {
            "marker": {
             "line": {
              "color": "#E5ECF6",
              "width": 0.5
             },
             "pattern": {
              "fillmode": "overlay",
              "size": 10,
              "solidity": 0.2
             }
            },
            "type": "barpolar"
           }
          ],
          "carpet": [
           {
            "aaxis": {
             "endlinecolor": "#2a3f5f",
             "gridcolor": "white",
             "linecolor": "white",
             "minorgridcolor": "white",
             "startlinecolor": "#2a3f5f"
            },
            "baxis": {
             "endlinecolor": "#2a3f5f",
             "gridcolor": "white",
             "linecolor": "white",
             "minorgridcolor": "white",
             "startlinecolor": "#2a3f5f"
            },
            "type": "carpet"
           }
          ],
          "choropleth": [
           {
            "colorbar": {
             "outlinewidth": 0,
             "ticks": ""
            },
            "type": "choropleth"
           }
          ],
          "contour": [
           {
            "colorbar": {
             "outlinewidth": 0,
             "ticks": ""
            },
            "colorscale": [
             [
              0,
              "#0d0887"
             ],
             [
              0.1111111111111111,
              "#46039f"
             ],
             [
              0.2222222222222222,
              "#7201a8"
             ],
             [
              0.3333333333333333,
              "#9c179e"
             ],
             [
              0.4444444444444444,
              "#bd3786"
             ],
             [
              0.5555555555555556,
              "#d8576b"
             ],
             [
              0.6666666666666666,
              "#ed7953"
             ],
             [
              0.7777777777777778,
              "#fb9f3a"
             ],
             [
              0.8888888888888888,
              "#fdca26"
             ],
             [
              1,
              "#f0f921"
             ]
            ],
            "type": "contour"
           }
          ],
          "contourcarpet": [
           {
            "colorbar": {
             "outlinewidth": 0,
             "ticks": ""
            },
            "type": "contourcarpet"
           }
          ],
          "heatmap": [
           {
            "colorbar": {
             "outlinewidth": 0,
             "ticks": ""
            },
            "colorscale": [
             [
              0,
              "#0d0887"
             ],
             [
              0.1111111111111111,
              "#46039f"
             ],
             [
              0.2222222222222222,
              "#7201a8"
             ],
             [
              0.3333333333333333,
              "#9c179e"
             ],
             [
              0.4444444444444444,
              "#bd3786"
             ],
             [
              0.5555555555555556,
              "#d8576b"
             ],
             [
              0.6666666666666666,
              "#ed7953"
             ],
             [
              0.7777777777777778,
              "#fb9f3a"
             ],
             [
              0.8888888888888888,
              "#fdca26"
             ],
             [
              1,
              "#f0f921"
             ]
            ],
            "type": "heatmap"
           }
          ],
          "histogram": [
           {
            "marker": {
             "pattern": {
              "fillmode": "overlay",
              "size": 10,
              "solidity": 0.2
             }
            },
            "type": "histogram"
           }
          ],
          "histogram2d": [
           {
            "colorbar": {
             "outlinewidth": 0,
             "ticks": ""
            },
            "colorscale": [
             [
              0,
              "#0d0887"
             ],
             [
              0.1111111111111111,
              "#46039f"
             ],
             [
              0.2222222222222222,
              "#7201a8"
             ],
             [
              0.3333333333333333,
              "#9c179e"
             ],
             [
              0.4444444444444444,
              "#bd3786"
             ],
             [
              0.5555555555555556,
              "#d8576b"
             ],
             [
              0.6666666666666666,
              "#ed7953"
             ],
             [
              0.7777777777777778,
              "#fb9f3a"
             ],
             [
              0.8888888888888888,
              "#fdca26"
             ],
             [
              1,
              "#f0f921"
             ]
            ],
            "type": "histogram2d"
           }
          ],
          "histogram2dcontour": [
           {
            "colorbar": {
             "outlinewidth": 0,
             "ticks": ""
            },
            "colorscale": [
             [
              0,
              "#0d0887"
             ],
             [
              0.1111111111111111,
              "#46039f"
             ],
             [
              0.2222222222222222,
              "#7201a8"
             ],
             [
              0.3333333333333333,
              "#9c179e"
             ],
             [
              0.4444444444444444,
              "#bd3786"
             ],
             [
              0.5555555555555556,
              "#d8576b"
             ],
             [
              0.6666666666666666,
              "#ed7953"
             ],
             [
              0.7777777777777778,
              "#fb9f3a"
             ],
             [
              0.8888888888888888,
              "#fdca26"
             ],
             [
              1,
              "#f0f921"
             ]
            ],
            "type": "histogram2dcontour"
           }
          ],
          "mesh3d": [
           {
            "colorbar": {
             "outlinewidth": 0,
             "ticks": ""
            },
            "type": "mesh3d"
           }
          ],
          "parcoords": [
           {
            "line": {
             "colorbar": {
              "outlinewidth": 0,
              "ticks": ""
             }
            },
            "type": "parcoords"
           }
          ],
          "pie": [
           {
            "automargin": true,
            "type": "pie"
           }
          ],
          "scatter": [
           {
            "fillpattern": {
             "fillmode": "overlay",
             "size": 10,
             "solidity": 0.2
            },
            "type": "scatter"
           }
          ],
          "scatter3d": [
           {
            "line": {
             "colorbar": {
              "outlinewidth": 0,
              "ticks": ""
             }
            },
            "marker": {
             "colorbar": {
              "outlinewidth": 0,
              "ticks": ""
             }
            },
            "type": "scatter3d"
           }
          ],
          "scattercarpet": [
           {
            "marker": {
             "colorbar": {
              "outlinewidth": 0,
              "ticks": ""
             }
            },
            "type": "scattercarpet"
           }
          ],
          "scattergeo": [
           {
            "marker": {
             "colorbar": {
              "outlinewidth": 0,
              "ticks": ""
             }
            },
            "type": "scattergeo"
           }
          ],
          "scattergl": [
           {
            "marker": {
             "colorbar": {
              "outlinewidth": 0,
              "ticks": ""
             }
            },
            "type": "scattergl"
           }
          ],
          "scattermap": [
           {
            "marker": {
             "colorbar": {
              "outlinewidth": 0,
              "ticks": ""
             }
            },
            "type": "scattermap"
           }
          ],
          "scattermapbox": [
           {
            "marker": {
             "colorbar": {
              "outlinewidth": 0,
              "ticks": ""
             }
            },
            "type": "scattermapbox"
           }
          ],
          "scatterpolar": [
           {
            "marker": {
             "colorbar": {
              "outlinewidth": 0,
              "ticks": ""
             }
            },
            "type": "scatterpolar"
           }
          ],
          "scatterpolargl": [
           {
            "marker": {
             "colorbar": {
              "outlinewidth": 0,
              "ticks": ""
             }
            },
            "type": "scatterpolargl"
           }
          ],
          "scatterternary": [
           {
            "marker": {
             "colorbar": {
              "outlinewidth": 0,
              "ticks": ""
             }
            },
            "type": "scatterternary"
           }
          ],
          "surface": [
           {
            "colorbar": {
             "outlinewidth": 0,
             "ticks": ""
            },
            "colorscale": [
             [
              0,
              "#0d0887"
             ],
             [
              0.1111111111111111,
              "#46039f"
             ],
             [
              0.2222222222222222,
              "#7201a8"
             ],
             [
              0.3333333333333333,
              "#9c179e"
             ],
             [
              0.4444444444444444,
              "#bd3786"
             ],
             [
              0.5555555555555556,
              "#d8576b"
             ],
             [
              0.6666666666666666,
              "#ed7953"
             ],
             [
              0.7777777777777778,
              "#fb9f3a"
             ],
             [
              0.8888888888888888,
              "#fdca26"
             ],
             [
              1,
              "#f0f921"
             ]
            ],
            "type": "surface"
           }
          ],
          "table": [
           {
            "cells": {
             "fill": {
              "color": "#EBF0F8"
             },
             "line": {
              "color": "white"
             }
            },
            "header": {
             "fill": {
              "color": "#C8D4E3"
             },
             "line": {
              "color": "white"
             }
            },
            "type": "table"
           }
          ]
         },
         "layout": {
          "annotationdefaults": {
           "arrowcolor": "#2a3f5f",
           "arrowhead": 0,
           "arrowwidth": 1
          },
          "autotypenumbers": "strict",
          "coloraxis": {
           "colorbar": {
            "outlinewidth": 0,
            "ticks": ""
           }
          },
          "colorscale": {
           "diverging": [
            [
             0,
             "#8e0152"
            ],
            [
             0.1,
             "#c51b7d"
            ],
            [
             0.2,
             "#de77ae"
            ],
            [
             0.3,
             "#f1b6da"
            ],
            [
             0.4,
             "#fde0ef"
            ],
            [
             0.5,
             "#f7f7f7"
            ],
            [
             0.6,
             "#e6f5d0"
            ],
            [
             0.7,
             "#b8e186"
            ],
            [
             0.8,
             "#7fbc41"
            ],
            [
             0.9,
             "#4d9221"
            ],
            [
             1,
             "#276419"
            ]
           ],
           "sequential": [
            [
             0,
             "#0d0887"
            ],
            [
             0.1111111111111111,
             "#46039f"
            ],
            [
             0.2222222222222222,
             "#7201a8"
            ],
            [
             0.3333333333333333,
             "#9c179e"
            ],
            [
             0.4444444444444444,
             "#bd3786"
            ],
            [
             0.5555555555555556,
             "#d8576b"
            ],
            [
             0.6666666666666666,
             "#ed7953"
            ],
            [
             0.7777777777777778,
             "#fb9f3a"
            ],
            [
             0.8888888888888888,
             "#fdca26"
            ],
            [
             1,
             "#f0f921"
            ]
           ],
           "sequentialminus": [
            [
             0,
             "#0d0887"
            ],
            [
             0.1111111111111111,
             "#46039f"
            ],
            [
             0.2222222222222222,
             "#7201a8"
            ],
            [
             0.3333333333333333,
             "#9c179e"
            ],
            [
             0.4444444444444444,
             "#bd3786"
            ],
            [
             0.5555555555555556,
             "#d8576b"
            ],
            [
             0.6666666666666666,
             "#ed7953"
            ],
            [
             0.7777777777777778,
             "#fb9f3a"
            ],
            [
             0.8888888888888888,
             "#fdca26"
            ],
            [
             1,
             "#f0f921"
            ]
           ]
          },
          "colorway": [
           "#636efa",
           "#EF553B",
           "#00cc96",
           "#ab63fa",
           "#FFA15A",
           "#19d3f3",
           "#FF6692",
           "#B6E880",
           "#FF97FF",
           "#FECB52"
          ],
          "font": {
           "color": "#2a3f5f"
          },
          "geo": {
           "bgcolor": "white",
           "lakecolor": "white",
           "landcolor": "#E5ECF6",
           "showlakes": true,
           "showland": true,
           "subunitcolor": "white"
          },
          "hoverlabel": {
           "align": "left"
          },
          "hovermode": "closest",
          "mapbox": {
           "style": "light"
          },
          "paper_bgcolor": "white",
          "plot_bgcolor": "#E5ECF6",
          "polar": {
           "angularaxis": {
            "gridcolor": "white",
            "linecolor": "white",
            "ticks": ""
           },
           "bgcolor": "#E5ECF6",
           "radialaxis": {
            "gridcolor": "white",
            "linecolor": "white",
            "ticks": ""
           }
          },
          "scene": {
           "xaxis": {
            "backgroundcolor": "#E5ECF6",
            "gridcolor": "white",
            "gridwidth": 2,
            "linecolor": "white",
            "showbackground": true,
            "ticks": "",
            "zerolinecolor": "white"
           },
           "yaxis": {
            "backgroundcolor": "#E5ECF6",
            "gridcolor": "white",
            "gridwidth": 2,
            "linecolor": "white",
            "showbackground": true,
            "ticks": "",
            "zerolinecolor": "white"
           },
           "zaxis": {
            "backgroundcolor": "#E5ECF6",
            "gridcolor": "white",
            "gridwidth": 2,
            "linecolor": "white",
            "showbackground": true,
            "ticks": "",
            "zerolinecolor": "white"
           }
          },
          "shapedefaults": {
           "line": {
            "color": "#2a3f5f"
           }
          },
          "ternary": {
           "aaxis": {
            "gridcolor": "white",
            "linecolor": "white",
            "ticks": ""
           },
           "baxis": {
            "gridcolor": "white",
            "linecolor": "white",
            "ticks": ""
           },
           "bgcolor": "#E5ECF6",
           "caxis": {
            "gridcolor": "white",
            "linecolor": "white",
            "ticks": ""
           }
          },
          "title": {
           "x": 0.05
          },
          "xaxis": {
           "automargin": true,
           "gridcolor": "white",
           "linecolor": "white",
           "ticks": "",
           "title": {
            "standoff": 15
           },
           "zerolinecolor": "white",
           "zerolinewidth": 2
          },
          "yaxis": {
           "automargin": true,
           "gridcolor": "white",
           "linecolor": "white",
           "ticks": "",
           "title": {
            "standoff": 15
           },
           "zerolinecolor": "white",
           "zerolinewidth": 2
          }
         }
        },
        "title": {
         "text": "Age vs Fare (colored by Survival)"
        },
        "xaxis": {
         "anchor": "y",
         "domain": [
          0,
          1
         ],
         "title": {
          "text": "Age"
         }
        },
        "yaxis": {
         "anchor": "x",
         "domain": [
          0,
          1
         ],
         "title": {
          "text": "Fare"
         }
        }
       }
      }
     },
     "metadata": {},
     "output_type": "display_data"
    }
   ],
   "source": [
    "fig = px.scatter(df, x='Age', y='Fare', color='Survived',\n",
    "                 title='Age vs Fare (colored by Survival)',\n",
    "                 hover_data=['Sex', 'Pclass'])\n",
    "fig.show()"
   ]
  },
  {
   "cell_type": "markdown",
   "id": "8b693383",
   "metadata": {},
   "source": [
    "#### Final : Key Observations"
   ]
  },
  {
   "cell_type": "code",
   "execution_count": 17,
   "id": "8d7f89e1",
   "metadata": {},
   "outputs": [
    {
     "name": "stdout",
     "output_type": "stream",
     "text": [
      "\n",
      "=== Key Observations ===\n",
      "1. Females had a significantly higher survival rate than males.\n",
      "2. Passengers in higher classes (Pclass 1) had better chances of survival.\n",
      "3. Some outliers exist in Fare (very high ticket prices).\n",
      "4. Younger passengers had slightly better survival rates.\n",
      "\n"
     ]
    }
   ],
   "source": [
    "print(\"\"\"\n",
    "=== Key Observations ===\n",
    "1. Females had a significantly higher survival rate than males.\n",
    "2. Passengers in higher classes (Pclass 1) had better chances of survival.\n",
    "3. Some outliers exist in Fare (very high ticket prices).\n",
    "4. Younger passengers had slightly better survival rates.\n",
    "\"\"\")"
   ]
  }
 ],
 "metadata": {
  "kernelspec": {
   "display_name": "Python 3",
   "language": "python",
   "name": "python3"
  },
  "language_info": {
   "codemirror_mode": {
    "name": "ipython",
    "version": 3
   },
   "file_extension": ".py",
   "mimetype": "text/x-python",
   "name": "python",
   "nbconvert_exporter": "python",
   "pygments_lexer": "ipython3",
   "version": "3.12.3"
  }
 },
 "nbformat": 4,
 "nbformat_minor": 5
}
